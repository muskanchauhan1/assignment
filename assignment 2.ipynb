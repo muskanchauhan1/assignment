{
 "cells": [
  {
   "cell_type": "code",
   "execution_count": 4,
   "id": "3f682afa-7392-4acc-9c90-efba9e20e93c",
   "metadata": {},
   "outputs": [
    {
     "name": "stdin",
     "output_type": "stream",
     "text": [
      "Enter the value numbers: 20\n"
     ]
    },
    {
     "name": "stdout",
     "output_type": "stream",
     "text": [
      "number is greater than 10:\n"
     ]
    }
   ],
   "source": [
    "#1.Check number is less than 10\n",
    "no=int(input(\"Enter the value numbers:\"))\n",
    "if no<10:\n",
    "    print(\"number is less than 10:\")\n",
    "else:\n",
    "    print(\"number is greater than 10:\")\n"
   ]
  },
  {
   "cell_type": "code",
   "execution_count": 10,
   "id": "4e20a1b2-ce5a-4e1e-8bc5-d3608a3a98ef",
   "metadata": {},
   "outputs": [
    {
     "name": "stdin",
     "output_type": "stream",
     "text": [
      "Enter the value no1: 20\n",
      "Enter the value no2: 10\n"
     ]
    },
    {
     "name": "stdout",
     "output_type": "stream",
     "text": [
      "number is not equivalent.\n"
     ]
    }
   ],
   "source": [
    "#2.Check numbers are equivalent\n",
    "no1=int(input(\"Enter the value no1:\"))\n",
    "no2=int(input(\"Enter the value no2:\"))\n",
    "if no1==no2:\n",
    "    print(\"number is equivalent.\")\n",
    "else :\n",
    "    print(\"number is not equivalent.\")"
   ]
  },
  {
   "cell_type": "code",
   "execution_count": 3,
   "id": "3e082186-91b7-411c-833f-b9f6881c1d5b",
   "metadata": {},
   "outputs": [
    {
     "name": "stdin",
     "output_type": "stream",
     "text": [
      "Enter the value of your age: 20\n"
     ]
    },
    {
     "name": "stdout",
     "output_type": "stream",
     "text": [
      "you are eligible\n"
     ]
    }
   ],
   "source": [
    "#3.Check voting eligibility\n",
    "age=int(input(\"Enter the value of your age:\"))\n",
    "if age>18:\n",
    "    print(\"you are eligible\")\n",
    "else:\n",
    "    print(\"you are not eligible\")"
   ]
  },
  {
   "cell_type": "code",
   "execution_count": 5,
   "id": "ab213854-003e-400f-b815-6916030c9df4",
   "metadata": {},
   "outputs": [
    {
     "name": "stdin",
     "output_type": "stream",
     "text": [
      "Enter the value of number: 1\n"
     ]
    },
    {
     "name": "stdout",
     "output_type": "stream",
     "text": [
      "its a odd\n"
     ]
    }
   ],
   "source": [
    "#4.Check if number is even or odd\n",
    "no=int(input(\"Enter the value of number:\"))\n",
    "if no%2==0:\n",
    "    print(\"its a even\")\n",
    "else:\n",
    "    print(\"its a odd\")"
   ]
  },
  {
   "cell_type": "code",
   "execution_count": 7,
   "id": "9cd7b716-c9bc-49eb-a147-abb8255f91b3",
   "metadata": {},
   "outputs": [
    {
     "name": "stdin",
     "output_type": "stream",
     "text": [
      "Enter the value of number: 1\n"
     ]
    },
    {
     "name": "stdout",
     "output_type": "stream",
     "text": [
      "its a odd\n"
     ]
    }
   ],
   "source": [
    "#4.Check if number is even or odd\n",
    "no=int(input(\"Enter the value of number:\"))\n",
    "if (no>>1)<<1==no:\n",
    "    print(\"its a even\")\n",
    "else:\n",
    "    print(\"its a odd\")"
   ]
  },
  {
   "cell_type": "code",
   "execution_count": 19,
   "id": "cc874617-84d4-4e0e-976c-b39019435442",
   "metadata": {},
   "outputs": [
    {
     "name": "stdin",
     "output_type": "stream",
     "text": [
      "Enter the value of angle1,angle2,angle3 20 20 40\n"
     ]
    },
    {
     "name": "stdout",
     "output_type": "stream",
     "text": [
      "its not a triangle\n"
     ]
    }
   ],
   "source": [
    "#5.Enter three angles & check if it is a triangle\n",
    "a1,a2,a3 = map(float, input(\"Enter the value of angle1,angle2,angle3\").split())\n",
    "if a1+a2+a3==180:\n",
    "    print(\"its a triangle\")\n",
    "else:\n",
    "     print(\"its not a triangle\")         "
   ]
  },
  {
   "cell_type": "code",
   "execution_count": 29,
   "id": "8b367c77-d3de-49d3-8dee-bb9e0817c8d7",
   "metadata": {},
   "outputs": [
    {
     "name": "stdin",
     "output_type": "stream",
     "text": [
      "Enter the value of m1,m2,m3,m4,m5 99 98 97 96 95 \n"
     ]
    },
    {
     "name": "stdout",
     "output_type": "stream",
     "text": [
      "total percentage 97.0 % total marks 485\n"
     ]
    }
   ],
   "source": [
    "#6.Find total marks & percentage\n",
    "m = list(map(int, input(\"Enter the value of m1,m2,m3,m4,m5\").split()))\n",
    "print(\"total percentage\",sum(m)/len(m), \"%\" ,\"total marks\", sum(m)) "
   ]
  },
  {
   "cell_type": "code",
   "execution_count": 30,
   "id": "6ef45305-7722-4e25-81c9-086ff047c5e3",
   "metadata": {},
   "outputs": [
    {
     "name": "stdin",
     "output_type": "stream",
     "text": [
      "Enter the 3 value 30 20 55\n"
     ]
    },
    {
     "name": "stdout",
     "output_type": "stream",
     "text": [
      "greatest among 3 no 55\n"
     ]
    }
   ],
   "source": [
    "#7.Largest amongst three numbers\n",
    "a = list(map(int, input(\"Enter the 3 value\").split())) \n",
    "print (\"greatest among 3 no\", max(a))"
   ]
  },
  {
   "cell_type": "code",
   "execution_count": 31,
   "id": "4bb86890-72cf-4580-806b-45d320fe278a",
   "metadata": {},
   "outputs": [
    {
     "name": "stdin",
     "output_type": "stream",
     "text": [
      "Enter the 3 value 10 20 7\n"
     ]
    },
    {
     "name": "stdout",
     "output_type": "stream",
     "text": [
      "greatest among 3 no 20\n"
     ]
    }
   ],
   "source": [
    "#8.Find greatest among 3 numbers\n",
    "a = list(map(int, input(\"Enter the 3 value\").split())) \n",
    "print (\"greatest among 3 no\", max(a))"
   ]
  },
  {
   "cell_type": "code",
   "execution_count": 33,
   "id": "c6d01f43-c27b-42b2-a575-2480ff9e9756",
   "metadata": {},
   "outputs": [
    {
     "name": "stdin",
     "output_type": "stream",
     "text": [
      "Enter the 5 values 50 40 80 90 70\n"
     ]
    },
    {
     "name": "stdout",
     "output_type": "stream",
     "text": [
      "student not scored distinction\n"
     ]
    }
   ],
   "source": [
    "#9.Check if student scored distinction\n",
    "m = list(map(int, input(\"Enter the 5 values\").split()))\n",
    "if sum(m)/len(m)>90:\n",
    "    print(\"student scored distinction\")\n",
    "else:\n",
    "    print(\"student not scored distinction\")"
   ]
  },
  {
   "cell_type": "code",
   "execution_count": 38,
   "id": "f66ff2aa-f3d4-4bdd-affc-bbd94ac59fbf",
   "metadata": {},
   "outputs": [
    {
     "name": "stdin",
     "output_type": "stream",
     "text": [
      "Enter the 3value  45 45 90\n"
     ]
    },
    {
     "name": "stdout",
     "output_type": "stream",
     "text": [
      "type of triangle is isosceles triangle: \n"
     ]
    }
   ],
   "source": [
    "#10.Check type of triangle\n",
    "a1,a2,a3 = map(float, input(\"Enter the 3value \").split())\n",
    "if a1==a2 or a2==a3 or a3==a1 and sum(a1,a2,a3)==180:\n",
    "    print(\"type of triangle is isosceles triangle: \")\n",
    "elif a1==a2==a3 and sum(a1,a2,a3)==180:\n",
    "    print(\"type of triangle is equilateral triangle: \")\n",
    "elif a1==90 or a2==90 or a3==90 and sum(a1,a2,a3)==180:\n",
    "    print(\"type of triangle is right triangle: \")\n",
    "elif a1>90 or a2>90 or a3>90 and sum(a1,a2,a3)==180:\n",
    "    print(\"type of triangle is obtuse triangle: \")\n",
    "elif a1<90 and a2<90 and a3<90 and sum(a1,a2,a3)==180:\n",
    "    print(\"type of triangle is actute triangle: \")"
   ]
  },
  {
   "cell_type": "code",
   "execution_count": 43,
   "id": "73e37967-1de9-46d3-a1c1-f5d2ebad10c4",
   "metadata": {},
   "outputs": [
    {
     "name": "stdin",
     "output_type": "stream",
     "text": [
      "Enter the 5 values 1 2 3 4 1\n"
     ]
    },
    {
     "name": "stdout",
     "output_type": "stream",
     "text": [
      "greater than 10\n"
     ]
    }
   ],
   "source": [
    "#11\n",
    "no = list(map(int, input(\"Enter the 5 values\").split()))\n",
    "if sum(no)>10:\n",
    "   print(\"greater than 10\")\n",
    "else:\n",
    "   print(\"not greater than 10\")"
   ]
  },
  {
   "cell_type": "code",
   "execution_count": 45,
   "id": "0735868f-4874-4a62-9620-665b335f3494",
   "metadata": {},
   "outputs": [
    {
     "name": "stdin",
     "output_type": "stream",
     "text": [
      "Enter a number: 20402\n"
     ]
    },
    {
     "name": "stdout",
     "output_type": "stream",
     "text": [
      "two zero four zero two "
     ]
    }
   ],
   "source": [
    "#12,13\n",
    "num_to_word ={\n",
    "    0: \"zero\", 1: \"one\", 2: \"two\", 3: \"three\", 4: \"four\",\n",
    "    5: \"five\", 6: \"six\", 7: \"seven\", 8: \"eight\", 9: \"nine\"}\n",
    "no = input(\"Enter a number:\")\n",
    "for digit in no:\n",
    "    print(num_to_word[int(digit)],end=\" \")"
   ]
  },
  {
   "cell_type": "code",
   "execution_count": 53,
   "id": "879b20e5-091a-43f4-ac46-1902d66d1840",
   "metadata": {},
   "outputs": [
    {
     "name": "stdout",
     "output_type": "stream",
     "text": [
      "10,9,8,7,6,5,4,3,2,1,"
     ]
    }
   ],
   "source": [
    "#14\n",
    "for i in range (10,0,-1):\n",
    "    print(i,end=(\",\"))\n"
   ]
  },
  {
   "cell_type": "code",
   "execution_count": 56,
   "id": "8ce9e522-9145-4735-9eb0-8af567c8ac37",
   "metadata": {},
   "outputs": [
    {
     "name": "stdin",
     "output_type": "stream",
     "text": [
      "Enter the value of n 2\n"
     ]
    },
    {
     "name": "stdout",
     "output_type": "stream",
     "text": [
      "Sum of first n even numbers: 6\n"
     ]
    }
   ],
   "source": [
    "#15\n",
    "no = int(input(\"Enter the value of n\"))\n",
    "s = no*(no+1)\n",
    "print(\"Sum of first n even numbers:\",s)\n",
    "\n",
    "         "
   ]
  },
  {
   "cell_type": "code",
   "execution_count": null,
   "id": "bbf4fc8f-3b98-41cc-97d6-821cd6cd8d10",
   "metadata": {},
   "outputs": [],
   "source": [
    "#16\n",
    "no = int(input(\"Enter the value of n\"))\n"
   ]
  },
  {
   "cell_type": "code",
   "execution_count": 87,
   "id": "7211e915-d685-4042-8560-e235e08b0891",
   "metadata": {},
   "outputs": [
    {
     "name": "stdin",
     "output_type": "stream",
     "text": [
      "Enter the 2 no 25 5\n"
     ]
    },
    {
     "name": "stdout",
     "output_type": "stream",
     "text": [
      "perfectly dividing:\n"
     ]
    }
   ],
   "source": [
    "## 17. Number perfectly dividing given number\n",
    "a, b = map(int, input(\"Enter the 2 no\").split()) \n",
    "if a%b==0:\n",
    "    print(\"perfectly dividing:\")\n",
    "else:\n",
    "    print(\"not perfectly dividing:\")"
   ]
  },
  {
   "cell_type": "code",
   "execution_count": 92,
   "id": "6539a518-add9-4ac6-bf39-cede5c31baa1",
   "metadata": {},
   "outputs": [
    {
     "name": "stdout",
     "output_type": "stream",
     "text": [
      "1.0\n",
      "1.4142135623730951\n",
      "1.7320508075688772\n",
      "2.0\n",
      "2.23606797749979\n",
      "2.449489742783178\n",
      "2.6457513110645907\n",
      "2.8284271247461903\n",
      "3.0\n"
     ]
    }
   ],
   "source": [
    "#18\n",
    "for i in range (1,10,1):\n",
    "    print(i**0.5)\n"
   ]
  },
  {
   "cell_type": "code",
   "execution_count": 94,
   "id": "15d11378-f945-4f53-b6bd-8a53a275ad0f",
   "metadata": {},
   "outputs": [
    {
     "name": "stdin",
     "output_type": "stream",
     "text": [
      "Enter the number: 23\n"
     ]
    },
    {
     "name": "stdout",
     "output_type": "stream",
     "text": [
      "number not divisible\n"
     ]
    }
   ],
   "source": [
    "#19\n",
    "no= int(input(\"Enter the number:\"))\n",
    "if no%2!=0 and no%3!=0 and no%5!=0:\n",
    "    print(\"number not divisible\")\n",
    "else:\n",
    "    print(\"number divisible\")"
   ]
  },
  {
   "cell_type": "code",
   "execution_count": 8,
   "id": "354e39af-157c-4ed6-b35e-0125b2e234d7",
   "metadata": {},
   "outputs": [
    {
     "name": "stdin",
     "output_type": "stream",
     "text": [
      "Enter the first term: 5\n",
      "Enter the no of terms: 10\n",
      "Enter the common differnce: 2\n"
     ]
    },
    {
     "name": "stdout",
     "output_type": "stream",
     "text": [
      "1/5 1/7 1/9 1/11 1/13 1/15 1/17 1/19 1/21 1/23 \n",
      " 0.8910195053148344\n"
     ]
    }
   ],
   "source": [
    "# 20\n",
    "a,n,d = int(input(\"Enter the first term:\")),int(input(\"Enter the no of terms:\")),int(input(\"Enter the common differnce:\"))\n",
    "s = 0\n",
    "for i in range (n):\n",
    "    term = a+i*d\n",
    "    s = s + 1/term\n",
    "    print(f\"1/{term}\", end = \" \")\n",
    "\n",
    "print(\"\\n\",s)\n",
    "          "
   ]
  },
  {
   "cell_type": "code",
   "execution_count": 9,
   "id": "b0f9a0fb-2580-418f-aa95-5e450a31c72c",
   "metadata": {},
   "outputs": [
    {
     "name": "stdin",
     "output_type": "stream",
     "text": [
      "Enter the first term: 2\n",
      "Enter the no of terms: 5\n",
      "Enter the common differnce: 2\n"
     ]
    },
    {
     "name": "stdout",
     "output_type": "stream",
     "text": [
      "2 4 6 8 10 \n",
      " 30\n"
     ]
    }
   ],
   "source": [
    "#21\n",
    "a,n,d = int(input(\"Enter the first term:\")),int(input(\"Enter the no of terms:\")),int(input(\"Enter the common differnce:\"))\n",
    "s = 0\n",
    "for i in range (n):\n",
    "    term = a+i*d\n",
    "    s = s + term\n",
    "    print(f\"{term}\", end = \" \")\n",
    "\n",
    "print(\"\\n\",s)\n"
   ]
  },
  {
   "cell_type": "code",
   "execution_count": 18,
   "id": "0578aae6-3eba-40c8-9fc1-54a2cbb4f6a2",
   "metadata": {},
   "outputs": [
    {
     "name": "stdin",
     "output_type": "stream",
     "text": [
      "Enter the value of number: 12345\n"
     ]
    },
    {
     "name": "stdout",
     "output_type": "stream",
     "text": [
      "Sum of first & last digit of number:6\n"
     ]
    }
   ],
   "source": [
    "#22\n",
    "n = input(\"Enter the value of number:\")\n",
    "s = int(n[0])+int(n[-1])\n",
    "print (f\"Sum of first & last digit of number:{s}\")"
   ]
  },
  {
   "cell_type": "code",
   "execution_count": 20,
   "id": "c0efb1d3-f1d5-4c78-bdae-fb4b2f2fa2c2",
   "metadata": {},
   "outputs": [
    {
     "name": "stdin",
     "output_type": "stream",
     "text": [
      "Enter a number: 123\n"
     ]
    },
    {
     "name": "stdout",
     "output_type": "stream",
     "text": [
      "12 3\n",
      "1 2\n",
      "0 1\n",
      "6\n"
     ]
    }
   ],
   "source": [
    "## 23\n",
    "s = sum=0\n",
    "no=int(input(\"Enter a number:\"))\n",
    "while no>0:\n",
    "    digit=no%10\n",
    "    no=no//10\n",
    "    print(no,digit)\n",
    "    sum+=digit\n",
    "print(sum)"
   ]
  },
  {
   "cell_type": "code",
   "execution_count": 25,
   "id": "36dc134e-b456-4133-bba3-61bab87c2b74",
   "metadata": {},
   "outputs": [
    {
     "name": "stdin",
     "output_type": "stream",
     "text": [
      " Enter no of terms you want to add: 10\n"
     ]
    },
    {
     "name": "stdout",
     "output_type": "stream",
     "text": [
      "88\n"
     ]
    }
   ],
   "source": [
    "#24\n",
    "F1 = 0\n",
    "F2 = 1\n",
    "a = int(input(\" Enter no of terms you want to add:\" ))\n",
    "sum=0\n",
    "for i in range(a):\n",
    "    sum += F1\n",
    "    F1,F2=F2,F1+F2\n",
    "print(sum)"
   ]
  },
  {
   "cell_type": "code",
   "execution_count": 33,
   "id": "c78eb0ab-29fb-43c7-afbe-71cfe36de6c6",
   "metadata": {},
   "outputs": [
    {
     "name": "stdin",
     "output_type": "stream",
     "text": [
      "Enter the 2 numbers: 12 16\n"
     ]
    },
    {
     "name": "stdout",
     "output_type": "stream",
     "text": [
      "HCF of 2 numbers is: 4\n"
     ]
    }
   ],
   "source": [
    "#25\n",
    "a,b = map(int,input(\"Enter the 2 numbers:\").split())\n",
    "if (a<b):\n",
    "    n=a\n",
    "else:\n",
    "    n=b\n",
    "for i in range (1,n):\n",
    "     if a%i==0 and b%i==0:\n",
    "         hcf = i\n",
    "print (\"HCF of 2 numbers is:\",hcf)"
   ]
  },
  {
   "cell_type": "code",
   "execution_count": 35,
   "id": "56353c90-ce1a-4363-a2bf-2527a93f5510",
   "metadata": {},
   "outputs": [
    {
     "name": "stdout",
     "output_type": "stream",
     "text": [
      "1 2 3 4 6 7 8 9 12 13 15 16 17 18 19 "
     ]
    }
   ],
   "source": [
    "#26\n",
    "a = 1\n",
    "b = 20\n",
    "skip_list = [5, 10, 11,14]\n",
    "\n",
    "for i in range(a, b, 1):  \n",
    "    if i in skip_list:  \n",
    "        continue \n",
    "    print(i, end=\" \")  "
   ]
  },
  {
   "cell_type": "code",
   "execution_count": 39,
   "id": "25b47f4d-bf85-47dd-8862-c29321b019e4",
   "metadata": {},
   "outputs": [
    {
     "name": "stdout",
     "output_type": "stream",
     "text": [
      "Sum of Positive Numbers: 21\n",
      "Sum of Negative Numbers: -26\n"
     ]
    }
   ],
   "source": [
    "#27\n",
    "no = [1,3,-4,6,-7,-10,11,-5] \n",
    "sum_positive = 0  \n",
    "sum_negative = 0  \n",
    "for no in no: \n",
    "    if no> 0:\n",
    "        sum_positive += no\n",
    "    else:\n",
    "        sum_negative += no \n",
    "print(\"Sum of Positive Numbers:\", sum_positive)\n",
    "print(\"Sum of Negative Numbers:\", sum_negative)"
   ]
  },
  {
   "cell_type": "code",
   "execution_count": null,
   "id": "6c4001db-f153-4d31-bb06-64130da56253",
   "metadata": {},
   "outputs": [],
   "source": []
  }
 ],
 "metadata": {
  "kernelspec": {
   "display_name": "Python 3 (ipykernel)",
   "language": "python",
   "name": "python3"
  },
  "language_info": {
   "codemirror_mode": {
    "name": "ipython",
    "version": 3
   },
   "file_extension": ".py",
   "mimetype": "text/x-python",
   "name": "python",
   "nbconvert_exporter": "python",
   "pygments_lexer": "ipython3",
   "version": "3.12.7"
  }
 },
 "nbformat": 4,
 "nbformat_minor": 5
}
